{
 "cells": [
  {
   "cell_type": "markdown",
   "id": "8535bb6a",
   "metadata": {},
   "source": [
    "# Gamelog"
   ]
  },
  {
   "cell_type": "code",
   "execution_count": 1,
   "id": "7fb5e6c9",
   "metadata": {},
   "outputs": [],
   "source": [
    "import numpy as np\n",
    "import pandas as pd"
   ]
  },
  {
   "cell_type": "code",
   "execution_count": 2,
   "id": "2bc555ce",
   "metadata": {},
   "outputs": [],
   "source": [
    "colnames=[\"gamerID\", \"gameID\", \"nr.number\", \"THEpolygon.vertex_count\",\n",
    "          \"THEpolygon.position_x\", \"THEpolygon.position_y\", \"THEpolygon.color[0]\",\n",
    "          \"THEpolygon.color[1]\", \"THEpolygon.color[2]\", \"THEpolygon.radius\", \"seconds\"] \n",
    "gamelog = pd.read_csv('gamelog.csv', names=colnames, header=None)"
   ]
  },
  {
   "cell_type": "code",
   "execution_count": 3,
   "id": "8bdcf659",
   "metadata": {},
   "outputs": [],
   "source": [
    "gamelog['dif']=gamelog['nr.number']-gamelog['THEpolygon.vertex_count']"
   ]
  },
  {
   "cell_type": "code",
   "execution_count": 4,
   "id": "e07e30df",
   "metadata": {},
   "outputs": [],
   "source": [
    "gamelog['color_list']= gamelog[['THEpolygon.color[0]','THEpolygon.color[1]','THEpolygon.color[2]']].values.tolist()"
   ]
  },
  {
   "cell_type": "code",
   "execution_count": 5,
   "id": "562b6474",
   "metadata": {},
   "outputs": [],
   "source": [
    "conditions = [\n",
    "    (gamelog['color_list'].map(tuple).isin([(255, 102, 102)])),\n",
    "    (gamelog['color_list'].map(tuple).isin([(102,255,102)])),\n",
    "    (gamelog['color_list'].map(tuple).isin([(102,102,255)])),\n",
    "    (gamelog['color_list'].map(tuple).isin([(255,255,102)])),\n",
    "    (gamelog['color_list'].map(tuple).isin([(102,255,255)])),\n",
    "    (gamelog['color_list'].map(tuple).isin([(255,178,102)])),\n",
    "    (gamelog['color_list'].map(tuple).isin([(255,102,178)])),\n",
    "    (gamelog['color_list'].map(tuple).isin([(178,102,255)]))]\n",
    "choices = ['red', 'green', 'blue', 'yellow', 'teal', 'orange', 'pink', 'purple']\n",
    "gamelog['color'] = np.select(conditions, choices, default='white')"
   ]
  },
  {
   "cell_type": "code",
   "execution_count": 6,
   "id": "ca050b6e",
   "metadata": {},
   "outputs": [],
   "source": [
    "gamelog['delta'] = (gamelog['seconds']-gamelog['seconds'].shift()).fillna(0)\n",
    "gamelog.loc[gamelog['delta']<=0, 'delta'] = gamelog['seconds']"
   ]
  },
  {
   "cell_type": "code",
   "execution_count": 7,
   "id": "06948866",
   "metadata": {},
   "outputs": [
    {
     "data": {
      "text/html": [
       "<div>\n",
       "<style scoped>\n",
       "    .dataframe tbody tr th:only-of-type {\n",
       "        vertical-align: middle;\n",
       "    }\n",
       "\n",
       "    .dataframe tbody tr th {\n",
       "        vertical-align: top;\n",
       "    }\n",
       "\n",
       "    .dataframe thead th {\n",
       "        text-align: right;\n",
       "    }\n",
       "</style>\n",
       "<table border=\"1\" class=\"dataframe\">\n",
       "  <thead>\n",
       "    <tr style=\"text-align: right;\">\n",
       "      <th></th>\n",
       "      <th>gamerID</th>\n",
       "      <th>gameID</th>\n",
       "      <th>nr.number</th>\n",
       "      <th>THEpolygon.vertex_count</th>\n",
       "      <th>THEpolygon.position_x</th>\n",
       "      <th>THEpolygon.position_y</th>\n",
       "      <th>THEpolygon.color[0]</th>\n",
       "      <th>THEpolygon.color[1]</th>\n",
       "      <th>THEpolygon.color[2]</th>\n",
       "      <th>THEpolygon.radius</th>\n",
       "      <th>seconds</th>\n",
       "      <th>dif</th>\n",
       "      <th>color_list</th>\n",
       "      <th>color</th>\n",
       "      <th>delta</th>\n",
       "    </tr>\n",
       "  </thead>\n",
       "  <tbody>\n",
       "    <tr>\n",
       "      <th>0</th>\n",
       "      <td>2189773</td>\n",
       "      <td>5576994</td>\n",
       "      <td>9</td>\n",
       "      <td>9</td>\n",
       "      <td>269</td>\n",
       "      <td>312</td>\n",
       "      <td>255</td>\n",
       "      <td>255</td>\n",
       "      <td>255</td>\n",
       "      <td>100</td>\n",
       "      <td>2.566</td>\n",
       "      <td>0</td>\n",
       "      <td>[255, 255, 255]</td>\n",
       "      <td>white</td>\n",
       "      <td>2.566</td>\n",
       "    </tr>\n",
       "    <tr>\n",
       "      <th>1</th>\n",
       "      <td>2189773</td>\n",
       "      <td>5576994</td>\n",
       "      <td>7</td>\n",
       "      <td>6</td>\n",
       "      <td>1761</td>\n",
       "      <td>227</td>\n",
       "      <td>102</td>\n",
       "      <td>102</td>\n",
       "      <td>255</td>\n",
       "      <td>101</td>\n",
       "      <td>5.595</td>\n",
       "      <td>1</td>\n",
       "      <td>[102, 102, 255]</td>\n",
       "      <td>blue</td>\n",
       "      <td>3.029</td>\n",
       "    </tr>\n",
       "    <tr>\n",
       "      <th>2</th>\n",
       "      <td>2189773</td>\n",
       "      <td>5576994</td>\n",
       "      <td>8</td>\n",
       "      <td>7</td>\n",
       "      <td>1571</td>\n",
       "      <td>789</td>\n",
       "      <td>255</td>\n",
       "      <td>178</td>\n",
       "      <td>102</td>\n",
       "      <td>87</td>\n",
       "      <td>8.770</td>\n",
       "      <td>1</td>\n",
       "      <td>[255, 178, 102]</td>\n",
       "      <td>orange</td>\n",
       "      <td>3.175</td>\n",
       "    </tr>\n",
       "    <tr>\n",
       "      <th>3</th>\n",
       "      <td>2189773</td>\n",
       "      <td>5576994</td>\n",
       "      <td>8</td>\n",
       "      <td>8</td>\n",
       "      <td>181</td>\n",
       "      <td>200</td>\n",
       "      <td>102</td>\n",
       "      <td>255</td>\n",
       "      <td>102</td>\n",
       "      <td>134</td>\n",
       "      <td>10.159</td>\n",
       "      <td>0</td>\n",
       "      <td>[102, 255, 102]</td>\n",
       "      <td>green</td>\n",
       "      <td>1.389</td>\n",
       "    </tr>\n",
       "    <tr>\n",
       "      <th>4</th>\n",
       "      <td>2189773</td>\n",
       "      <td>5576994</td>\n",
       "      <td>6</td>\n",
       "      <td>6</td>\n",
       "      <td>1478</td>\n",
       "      <td>589</td>\n",
       "      <td>255</td>\n",
       "      <td>102</td>\n",
       "      <td>178</td>\n",
       "      <td>89</td>\n",
       "      <td>12.424</td>\n",
       "      <td>0</td>\n",
       "      <td>[255, 102, 178]</td>\n",
       "      <td>pink</td>\n",
       "      <td>2.265</td>\n",
       "    </tr>\n",
       "    <tr>\n",
       "      <th>...</th>\n",
       "      <td>...</td>\n",
       "      <td>...</td>\n",
       "      <td>...</td>\n",
       "      <td>...</td>\n",
       "      <td>...</td>\n",
       "      <td>...</td>\n",
       "      <td>...</td>\n",
       "      <td>...</td>\n",
       "      <td>...</td>\n",
       "      <td>...</td>\n",
       "      <td>...</td>\n",
       "      <td>...</td>\n",
       "      <td>...</td>\n",
       "      <td>...</td>\n",
       "      <td>...</td>\n",
       "    </tr>\n",
       "    <tr>\n",
       "      <th>1151</th>\n",
       "      <td>6092123</td>\n",
       "      <td>4038250</td>\n",
       "      <td>8</td>\n",
       "      <td>7</td>\n",
       "      <td>1407</td>\n",
       "      <td>568</td>\n",
       "      <td>102</td>\n",
       "      <td>102</td>\n",
       "      <td>255</td>\n",
       "      <td>101</td>\n",
       "      <td>901.912</td>\n",
       "      <td>1</td>\n",
       "      <td>[102, 102, 255]</td>\n",
       "      <td>blue</td>\n",
       "      <td>1.708</td>\n",
       "    </tr>\n",
       "    <tr>\n",
       "      <th>1152</th>\n",
       "      <td>6092123</td>\n",
       "      <td>4038250</td>\n",
       "      <td>8</td>\n",
       "      <td>7</td>\n",
       "      <td>1761</td>\n",
       "      <td>756</td>\n",
       "      <td>255</td>\n",
       "      <td>178</td>\n",
       "      <td>102</td>\n",
       "      <td>52</td>\n",
       "      <td>906.635</td>\n",
       "      <td>1</td>\n",
       "      <td>[255, 178, 102]</td>\n",
       "      <td>orange</td>\n",
       "      <td>4.723</td>\n",
       "    </tr>\n",
       "    <tr>\n",
       "      <th>1153</th>\n",
       "      <td>6092123</td>\n",
       "      <td>4038250</td>\n",
       "      <td>4</td>\n",
       "      <td>4</td>\n",
       "      <td>831</td>\n",
       "      <td>918</td>\n",
       "      <td>255</td>\n",
       "      <td>178</td>\n",
       "      <td>102</td>\n",
       "      <td>95</td>\n",
       "      <td>908.287</td>\n",
       "      <td>0</td>\n",
       "      <td>[255, 178, 102]</td>\n",
       "      <td>orange</td>\n",
       "      <td>1.652</td>\n",
       "    </tr>\n",
       "    <tr>\n",
       "      <th>1154</th>\n",
       "      <td>6092123</td>\n",
       "      <td>4038250</td>\n",
       "      <td>6</td>\n",
       "      <td>7</td>\n",
       "      <td>289</td>\n",
       "      <td>581</td>\n",
       "      <td>102</td>\n",
       "      <td>255</td>\n",
       "      <td>255</td>\n",
       "      <td>110</td>\n",
       "      <td>910.555</td>\n",
       "      <td>-1</td>\n",
       "      <td>[102, 255, 255]</td>\n",
       "      <td>teal</td>\n",
       "      <td>2.268</td>\n",
       "    </tr>\n",
       "    <tr>\n",
       "      <th>1155</th>\n",
       "      <td>6092123</td>\n",
       "      <td>4038250</td>\n",
       "      <td>8</td>\n",
       "      <td>7</td>\n",
       "      <td>1431</td>\n",
       "      <td>913</td>\n",
       "      <td>178</td>\n",
       "      <td>102</td>\n",
       "      <td>255</td>\n",
       "      <td>124</td>\n",
       "      <td>912.428</td>\n",
       "      <td>1</td>\n",
       "      <td>[178, 102, 255]</td>\n",
       "      <td>purple</td>\n",
       "      <td>1.873</td>\n",
       "    </tr>\n",
       "  </tbody>\n",
       "</table>\n",
       "<p>1156 rows × 15 columns</p>\n",
       "</div>"
      ],
      "text/plain": [
       "      gamerID   gameID  nr.number  THEpolygon.vertex_count  \\\n",
       "0     2189773  5576994          9                        9   \n",
       "1     2189773  5576994          7                        6   \n",
       "2     2189773  5576994          8                        7   \n",
       "3     2189773  5576994          8                        8   \n",
       "4     2189773  5576994          6                        6   \n",
       "...       ...      ...        ...                      ...   \n",
       "1151  6092123  4038250          8                        7   \n",
       "1152  6092123  4038250          8                        7   \n",
       "1153  6092123  4038250          4                        4   \n",
       "1154  6092123  4038250          6                        7   \n",
       "1155  6092123  4038250          8                        7   \n",
       "\n",
       "      THEpolygon.position_x  THEpolygon.position_y  THEpolygon.color[0]  \\\n",
       "0                       269                    312                  255   \n",
       "1                      1761                    227                  102   \n",
       "2                      1571                    789                  255   \n",
       "3                       181                    200                  102   \n",
       "4                      1478                    589                  255   \n",
       "...                     ...                    ...                  ...   \n",
       "1151                   1407                    568                  102   \n",
       "1152                   1761                    756                  255   \n",
       "1153                    831                    918                  255   \n",
       "1154                    289                    581                  102   \n",
       "1155                   1431                    913                  178   \n",
       "\n",
       "      THEpolygon.color[1]  THEpolygon.color[2]  THEpolygon.radius  seconds  \\\n",
       "0                     255                  255                100    2.566   \n",
       "1                     102                  255                101    5.595   \n",
       "2                     178                  102                 87    8.770   \n",
       "3                     255                  102                134   10.159   \n",
       "4                     102                  178                 89   12.424   \n",
       "...                   ...                  ...                ...      ...   \n",
       "1151                  102                  255                101  901.912   \n",
       "1152                  178                  102                 52  906.635   \n",
       "1153                  178                  102                 95  908.287   \n",
       "1154                  255                  255                110  910.555   \n",
       "1155                  102                  255                124  912.428   \n",
       "\n",
       "      dif       color_list   color  delta  \n",
       "0       0  [255, 255, 255]   white  2.566  \n",
       "1       1  [102, 102, 255]    blue  3.029  \n",
       "2       1  [255, 178, 102]  orange  3.175  \n",
       "3       0  [102, 255, 102]   green  1.389  \n",
       "4       0  [255, 102, 178]    pink  2.265  \n",
       "...   ...              ...     ...    ...  \n",
       "1151    1  [102, 102, 255]    blue  1.708  \n",
       "1152    1  [255, 178, 102]  orange  4.723  \n",
       "1153    0  [255, 178, 102]  orange  1.652  \n",
       "1154   -1  [102, 255, 255]    teal  2.268  \n",
       "1155    1  [178, 102, 255]  purple  1.873  \n",
       "\n",
       "[1156 rows x 15 columns]"
      ]
     },
     "execution_count": 7,
     "metadata": {},
     "output_type": "execute_result"
    }
   ],
   "source": [
    "gamelog"
   ]
  },
  {
   "cell_type": "markdown",
   "id": "d237cab9",
   "metadata": {},
   "source": [
    "# Responses"
   ]
  },
  {
   "cell_type": "code",
   "execution_count": 8,
   "id": "c040e6fd",
   "metadata": {},
   "outputs": [],
   "source": [
    "Responses = pd.read_csv('Mindfullness_(Responses).csv')"
   ]
  },
  {
   "cell_type": "code",
   "execution_count": 9,
   "id": "606c4efe",
   "metadata": {},
   "outputs": [],
   "source": [
    "Responses = Responses.replace('Men', 'male')\n",
    "Responses = Responses.replace('Not at all', 0)\n",
    "Responses = Responses.replace('A little', 1)\n",
    "Responses = Responses.replace('Moderately', 2)\n",
    "Responses = Responses.replace('Quite a bit', 3)\n",
    "Responses = Responses.replace('Very much', 4)\n",
    "\n"
   ]
  },
  {
   "cell_type": "code",
   "execution_count": 10,
   "id": "bc18c2c4",
   "metadata": {},
   "outputs": [],
   "source": [
    "for i in range(15):\n",
    "    Responses.columns.values[i+5] = \"S1Q\" + str(i)\n",
    "    Responses.columns.values[i+21] = \"S2Q\" + str(i)\n",
    "    Responses[\"Q\" + str(i)] = Responses[Responses.columns.values[i+21]].astype(int)-Responses[Responses.columns.values[i+5]].astype(int)\n"
   ]
  },
  {
   "cell_type": "code",
   "execution_count": 15,
   "id": "2e7398e3",
   "metadata": {},
   "outputs": [
    {
     "data": {
      "text/plain": [
       "Age                        24.2\n",
       "S1Q0                        1.6\n",
       "S1Q1                        1.2\n",
       "S1Q2                        2.0\n",
       "S1Q3                        0.6\n",
       "S1Q4                        1.6\n",
       "S1Q5                        1.8\n",
       "S1Q6                        1.0\n",
       "S1Q7                        2.2\n",
       "S1Q8                        1.4\n",
       "S1Q9                        1.0\n",
       "S1Q10                       2.0\n",
       "S1Q11                       2.0\n",
       "S1Q12                       1.8\n",
       "S1Q13                       2.0\n",
       "S1Q14                       0.8\n",
       "Player ID             3439949.4\n",
       "S2Q0                        2.4\n",
       "S2Q1                        1.8\n",
       "S2Q2                        2.8\n",
       "S2Q3                        2.4\n",
       "S2Q4                        2.6\n",
       "S2Q5                        3.2\n",
       "S2Q6                        2.0\n",
       "S2Q7                        2.8\n",
       "S2Q8                        3.0\n",
       "S2Q9                        2.2\n",
       "S2Q10                       3.2\n",
       "S2Q11                       3.0\n",
       "S2Q12                       2.2\n",
       "S2Q13                       2.6\n",
       "S2Q14                       2.2\n",
       "Did you like game?          3.8\n",
       "Q0                          0.8\n",
       "Q1                          0.6\n",
       "Q2                          0.8\n",
       "Q3                          1.8\n",
       "Q4                          1.0\n",
       "Q5                          1.4\n",
       "Q6                          1.0\n",
       "Q7                          0.6\n",
       "Q8                          1.6\n",
       "Q9                          1.2\n",
       "Q10                         1.2\n",
       "Q11                         1.0\n",
       "Q12                         0.4\n",
       "Q13                         0.6\n",
       "Q14                         1.4\n",
       "dtype: float64"
      ]
     },
     "execution_count": 15,
     "metadata": {},
     "output_type": "execute_result"
    }
   ],
   "source": [
    "Responses.select_dtypes(include='number').mean()"
   ]
  },
  {
   "cell_type": "markdown",
   "id": "a2a007ad",
   "metadata": {},
   "source": [
    "## Merge data"
   ]
  },
  {
   "cell_type": "code",
   "execution_count": 12,
   "id": "ccb59711",
   "metadata": {},
   "outputs": [
    {
     "data": {
      "text/plain": [
       "[6092123, 7226659, 2189773]"
      ]
     },
     "execution_count": 12,
     "metadata": {},
     "output_type": "execute_result"
    }
   ],
   "source": [
    "list(set(gamelog['gamerID'].unique()).intersection(Responses['Player ID'].unique()))"
   ]
  },
  {
   "cell_type": "code",
   "execution_count": 13,
   "id": "63fd2d01",
   "metadata": {},
   "outputs": [
    {
     "data": {
      "text/plain": [
       "array([   5555, 2189773, 7226659, 1685637, 6092123])"
      ]
     },
     "execution_count": 13,
     "metadata": {},
     "output_type": "execute_result"
    }
   ],
   "source": [
    "Responses['Player ID'].unique()"
   ]
  },
  {
   "cell_type": "code",
   "execution_count": 14,
   "id": "60a78885",
   "metadata": {},
   "outputs": [
    {
     "data": {
      "text/plain": [
       "array([2189773, 7226659, 4705656, 6092123])"
      ]
     },
     "execution_count": 14,
     "metadata": {},
     "output_type": "execute_result"
    }
   ],
   "source": [
    "gamelog['gamerID'].unique()"
   ]
  },
  {
   "cell_type": "code",
   "execution_count": null,
   "id": "2073e41f",
   "metadata": {},
   "outputs": [],
   "source": []
  }
 ],
 "metadata": {
  "kernelspec": {
   "display_name": "Python 3 (ipykernel)",
   "language": "python",
   "name": "python3"
  },
  "language_info": {
   "codemirror_mode": {
    "name": "ipython",
    "version": 3
   },
   "file_extension": ".py",
   "mimetype": "text/x-python",
   "name": "python",
   "nbconvert_exporter": "python",
   "pygments_lexer": "ipython3",
   "version": "3.8.11"
  }
 },
 "nbformat": 4,
 "nbformat_minor": 5
}
