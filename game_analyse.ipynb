{
 "cells": [
  {
   "cell_type": "markdown",
   "metadata": {},
   "source": [
    "# Gamelog"
   ]
  },
  {
   "cell_type": "code",
   "execution_count": 1,
   "metadata": {},
   "outputs": [],
   "source": [
    "import numpy as np\n",
    "import pandas as pd"
   ]
  },
  {
   "cell_type": "code",
   "execution_count": 2,
   "metadata": {},
   "outputs": [],
   "source": [
    "colnames=[\"gamerID\", \"gameID\", \"nr.number\", \"THEpolygon.vertex_count\",\n",
    "          \"THEpolygon.position_x\", \"THEpolygon.position_y\", \"THEpolygon.color[0]\",\n",
    "          \"THEpolygon.color[1]\", \"THEpolygon.color[2]\", \"THEpolygon.radius\", \"seconds\"] \n",
    "gamelog = pd.read_csv('gamelog.csv', names=colnames, header=None)"
   ]
  },
  {
   "cell_type": "code",
   "execution_count": 3,
   "metadata": {},
   "outputs": [],
   "source": [
    "gamelog['dif']=gamelog['nr.number']-gamelog['THEpolygon.vertex_count']"
   ]
  },
  {
   "cell_type": "code",
   "execution_count": 4,
   "metadata": {},
   "outputs": [],
   "source": [
    "gamelog['color_list']= gamelog[['THEpolygon.color[0]','THEpolygon.color[1]','THEpolygon.color[2]']].values.tolist()"
   ]
  },
  {
   "cell_type": "code",
   "execution_count": 5,
   "metadata": {},
   "outputs": [],
   "source": [
    "conditions = [\n",
    "    (gamelog['color_list'].map(tuple).isin([(255, 102, 102)])),\n",
    "    (gamelog['color_list'].map(tuple).isin([(102,255,102)])),\n",
    "    (gamelog['color_list'].map(tuple).isin([(102,102,255)])),\n",
    "    (gamelog['color_list'].map(tuple).isin([(255,255,102)])),\n",
    "    (gamelog['color_list'].map(tuple).isin([(102,255,255)])),\n",
    "    (gamelog['color_list'].map(tuple).isin([(255,178,102)])),\n",
    "    (gamelog['color_list'].map(tuple).isin([(255,102,178)])),\n",
    "    (gamelog['color_list'].map(tuple).isin([(178,102,255)]))]\n",
    "choices = ['red', 'green', 'blue', 'yellow', 'teal', 'orange', 'pink', 'purple']\n",
    "gamelog['color'] = np.select(conditions, choices, default='white')"
   ]
  },
  {
   "cell_type": "code",
   "execution_count": 6,
   "metadata": {},
   "outputs": [],
   "source": [
    "gamelog['delta'] = (gamelog['seconds']-gamelog['seconds'].shift()).fillna(0)\n",
    "gamelog.loc[gamelog['delta']<=0, 'delta'] = gamelog['seconds']"
   ]
  },
  {
   "cell_type": "code",
   "execution_count": 7,
   "metadata": {},
   "outputs": [
    {
     "data": {
      "text/html": [
       "<div>\n",
       "<style scoped>\n",
       "    .dataframe tbody tr th:only-of-type {\n",
       "        vertical-align: middle;\n",
       "    }\n",
       "\n",
       "    .dataframe tbody tr th {\n",
       "        vertical-align: top;\n",
       "    }\n",
       "\n",
       "    .dataframe thead th {\n",
       "        text-align: right;\n",
       "    }\n",
       "</style>\n",
       "<table border=\"1\" class=\"dataframe\">\n",
       "  <thead>\n",
       "    <tr style=\"text-align: right;\">\n",
       "      <th></th>\n",
       "      <th>gamerID</th>\n",
       "      <th>gameID</th>\n",
       "      <th>nr.number</th>\n",
       "      <th>THEpolygon.vertex_count</th>\n",
       "      <th>THEpolygon.position_x</th>\n",
       "      <th>THEpolygon.position_y</th>\n",
       "      <th>THEpolygon.color[0]</th>\n",
       "      <th>THEpolygon.color[1]</th>\n",
       "      <th>THEpolygon.color[2]</th>\n",
       "      <th>THEpolygon.radius</th>\n",
       "      <th>seconds</th>\n",
       "      <th>dif</th>\n",
       "      <th>color_list</th>\n",
       "      <th>color</th>\n",
       "      <th>delta</th>\n",
       "    </tr>\n",
       "  </thead>\n",
       "  <tbody>\n",
       "    <tr>\n",
       "      <th>0</th>\n",
       "      <td>2189773</td>\n",
       "      <td>5576994</td>\n",
       "      <td>9</td>\n",
       "      <td>9</td>\n",
       "      <td>269</td>\n",
       "      <td>312</td>\n",
       "      <td>255</td>\n",
       "      <td>255</td>\n",
       "      <td>255</td>\n",
       "      <td>100</td>\n",
       "      <td>2.566</td>\n",
       "      <td>0</td>\n",
       "      <td>[255, 255, 255]</td>\n",
       "      <td>white</td>\n",
       "      <td>2.566</td>\n",
       "    </tr>\n",
       "    <tr>\n",
       "      <th>1</th>\n",
       "      <td>2189773</td>\n",
       "      <td>5576994</td>\n",
       "      <td>7</td>\n",
       "      <td>6</td>\n",
       "      <td>1761</td>\n",
       "      <td>227</td>\n",
       "      <td>102</td>\n",
       "      <td>102</td>\n",
       "      <td>255</td>\n",
       "      <td>101</td>\n",
       "      <td>5.595</td>\n",
       "      <td>1</td>\n",
       "      <td>[102, 102, 255]</td>\n",
       "      <td>blue</td>\n",
       "      <td>3.029</td>\n",
       "    </tr>\n",
       "    <tr>\n",
       "      <th>2</th>\n",
       "      <td>2189773</td>\n",
       "      <td>5576994</td>\n",
       "      <td>8</td>\n",
       "      <td>7</td>\n",
       "      <td>1571</td>\n",
       "      <td>789</td>\n",
       "      <td>255</td>\n",
       "      <td>178</td>\n",
       "      <td>102</td>\n",
       "      <td>87</td>\n",
       "      <td>8.770</td>\n",
       "      <td>1</td>\n",
       "      <td>[255, 178, 102]</td>\n",
       "      <td>orange</td>\n",
       "      <td>3.175</td>\n",
       "    </tr>\n",
       "    <tr>\n",
       "      <th>3</th>\n",
       "      <td>2189773</td>\n",
       "      <td>5576994</td>\n",
       "      <td>8</td>\n",
       "      <td>8</td>\n",
       "      <td>181</td>\n",
       "      <td>200</td>\n",
       "      <td>102</td>\n",
       "      <td>255</td>\n",
       "      <td>102</td>\n",
       "      <td>134</td>\n",
       "      <td>10.159</td>\n",
       "      <td>0</td>\n",
       "      <td>[102, 255, 102]</td>\n",
       "      <td>green</td>\n",
       "      <td>1.389</td>\n",
       "    </tr>\n",
       "    <tr>\n",
       "      <th>4</th>\n",
       "      <td>2189773</td>\n",
       "      <td>5576994</td>\n",
       "      <td>6</td>\n",
       "      <td>6</td>\n",
       "      <td>1478</td>\n",
       "      <td>589</td>\n",
       "      <td>255</td>\n",
       "      <td>102</td>\n",
       "      <td>178</td>\n",
       "      <td>89</td>\n",
       "      <td>12.424</td>\n",
       "      <td>0</td>\n",
       "      <td>[255, 102, 178]</td>\n",
       "      <td>pink</td>\n",
       "      <td>2.265</td>\n",
       "    </tr>\n",
       "    <tr>\n",
       "      <th>...</th>\n",
       "      <td>...</td>\n",
       "      <td>...</td>\n",
       "      <td>...</td>\n",
       "      <td>...</td>\n",
       "      <td>...</td>\n",
       "      <td>...</td>\n",
       "      <td>...</td>\n",
       "      <td>...</td>\n",
       "      <td>...</td>\n",
       "      <td>...</td>\n",
       "      <td>...</td>\n",
       "      <td>...</td>\n",
       "      <td>...</td>\n",
       "      <td>...</td>\n",
       "      <td>...</td>\n",
       "    </tr>\n",
       "    <tr>\n",
       "      <th>1311</th>\n",
       "      <td>8714568</td>\n",
       "      <td>607019</td>\n",
       "      <td>5</td>\n",
       "      <td>5</td>\n",
       "      <td>317</td>\n",
       "      <td>740</td>\n",
       "      <td>102</td>\n",
       "      <td>255</td>\n",
       "      <td>255</td>\n",
       "      <td>105</td>\n",
       "      <td>1393.879</td>\n",
       "      <td>0</td>\n",
       "      <td>[102, 255, 255]</td>\n",
       "      <td>teal</td>\n",
       "      <td>1.792</td>\n",
       "    </tr>\n",
       "    <tr>\n",
       "      <th>1312</th>\n",
       "      <td>8714568</td>\n",
       "      <td>607019</td>\n",
       "      <td>3</td>\n",
       "      <td>3</td>\n",
       "      <td>713</td>\n",
       "      <td>894</td>\n",
       "      <td>255</td>\n",
       "      <td>255</td>\n",
       "      <td>255</td>\n",
       "      <td>54</td>\n",
       "      <td>1396.945</td>\n",
       "      <td>0</td>\n",
       "      <td>[255, 255, 255]</td>\n",
       "      <td>white</td>\n",
       "      <td>3.066</td>\n",
       "    </tr>\n",
       "    <tr>\n",
       "      <th>1313</th>\n",
       "      <td>8714568</td>\n",
       "      <td>607019</td>\n",
       "      <td>5</td>\n",
       "      <td>5</td>\n",
       "      <td>226</td>\n",
       "      <td>551</td>\n",
       "      <td>178</td>\n",
       "      <td>102</td>\n",
       "      <td>255</td>\n",
       "      <td>125</td>\n",
       "      <td>1404.265</td>\n",
       "      <td>0</td>\n",
       "      <td>[178, 102, 255]</td>\n",
       "      <td>purple</td>\n",
       "      <td>7.320</td>\n",
       "    </tr>\n",
       "    <tr>\n",
       "      <th>1314</th>\n",
       "      <td>8714568</td>\n",
       "      <td>607019</td>\n",
       "      <td>3</td>\n",
       "      <td>3</td>\n",
       "      <td>1316</td>\n",
       "      <td>494</td>\n",
       "      <td>255</td>\n",
       "      <td>255</td>\n",
       "      <td>102</td>\n",
       "      <td>100</td>\n",
       "      <td>1415.479</td>\n",
       "      <td>0</td>\n",
       "      <td>[255, 255, 102]</td>\n",
       "      <td>yellow</td>\n",
       "      <td>11.214</td>\n",
       "    </tr>\n",
       "    <tr>\n",
       "      <th>1315</th>\n",
       "      <td>8714568</td>\n",
       "      <td>607019</td>\n",
       "      <td>7</td>\n",
       "      <td>8</td>\n",
       "      <td>1748</td>\n",
       "      <td>329</td>\n",
       "      <td>255</td>\n",
       "      <td>178</td>\n",
       "      <td>102</td>\n",
       "      <td>140</td>\n",
       "      <td>1444.529</td>\n",
       "      <td>-1</td>\n",
       "      <td>[255, 178, 102]</td>\n",
       "      <td>orange</td>\n",
       "      <td>29.050</td>\n",
       "    </tr>\n",
       "  </tbody>\n",
       "</table>\n",
       "<p>1316 rows × 15 columns</p>\n",
       "</div>"
      ],
      "text/plain": [
       "      gamerID   gameID  nr.number  THEpolygon.vertex_count  \\\n",
       "0     2189773  5576994          9                        9   \n",
       "1     2189773  5576994          7                        6   \n",
       "2     2189773  5576994          8                        7   \n",
       "3     2189773  5576994          8                        8   \n",
       "4     2189773  5576994          6                        6   \n",
       "...       ...      ...        ...                      ...   \n",
       "1311  8714568   607019          5                        5   \n",
       "1312  8714568   607019          3                        3   \n",
       "1313  8714568   607019          5                        5   \n",
       "1314  8714568   607019          3                        3   \n",
       "1315  8714568   607019          7                        8   \n",
       "\n",
       "      THEpolygon.position_x  THEpolygon.position_y  THEpolygon.color[0]  \\\n",
       "0                       269                    312                  255   \n",
       "1                      1761                    227                  102   \n",
       "2                      1571                    789                  255   \n",
       "3                       181                    200                  102   \n",
       "4                      1478                    589                  255   \n",
       "...                     ...                    ...                  ...   \n",
       "1311                    317                    740                  102   \n",
       "1312                    713                    894                  255   \n",
       "1313                    226                    551                  178   \n",
       "1314                   1316                    494                  255   \n",
       "1315                   1748                    329                  255   \n",
       "\n",
       "      THEpolygon.color[1]  THEpolygon.color[2]  THEpolygon.radius   seconds  \\\n",
       "0                     255                  255                100     2.566   \n",
       "1                     102                  255                101     5.595   \n",
       "2                     178                  102                 87     8.770   \n",
       "3                     255                  102                134    10.159   \n",
       "4                     102                  178                 89    12.424   \n",
       "...                   ...                  ...                ...       ...   \n",
       "1311                  255                  255                105  1393.879   \n",
       "1312                  255                  255                 54  1396.945   \n",
       "1313                  102                  255                125  1404.265   \n",
       "1314                  255                  102                100  1415.479   \n",
       "1315                  178                  102                140  1444.529   \n",
       "\n",
       "      dif       color_list   color   delta  \n",
       "0       0  [255, 255, 255]   white   2.566  \n",
       "1       1  [102, 102, 255]    blue   3.029  \n",
       "2       1  [255, 178, 102]  orange   3.175  \n",
       "3       0  [102, 255, 102]   green   1.389  \n",
       "4       0  [255, 102, 178]    pink   2.265  \n",
       "...   ...              ...     ...     ...  \n",
       "1311    0  [102, 255, 255]    teal   1.792  \n",
       "1312    0  [255, 255, 255]   white   3.066  \n",
       "1313    0  [178, 102, 255]  purple   7.320  \n",
       "1314    0  [255, 255, 102]  yellow  11.214  \n",
       "1315   -1  [255, 178, 102]  orange  29.050  \n",
       "\n",
       "[1316 rows x 15 columns]"
      ]
     },
     "execution_count": 7,
     "metadata": {},
     "output_type": "execute_result"
    }
   ],
   "source": [
    "gamelog"
   ]
  },
  {
   "cell_type": "markdown",
   "metadata": {},
   "source": [
    "# Responses"
   ]
  },
  {
   "cell_type": "code",
   "execution_count": 8,
   "metadata": {},
   "outputs": [],
   "source": [
    "Responses = pd.read_csv('Mindfullness_(Responses).csv')"
   ]
  },
  {
   "cell_type": "code",
   "execution_count": 9,
   "metadata": {},
   "outputs": [],
   "source": [
    "Responses = Responses.replace('Men', 'male')\n",
    "Responses = Responses.replace('Not at all', 0)\n",
    "Responses = Responses.replace('A little', 1)\n",
    "Responses = Responses.replace('Moderately', 2)\n",
    "Responses = Responses.replace('Quite a bit', 3)\n",
    "Responses = Responses.replace('Very much', 4)\n",
    "\n"
   ]
  },
  {
   "cell_type": "code",
   "execution_count": 10,
   "metadata": {},
   "outputs": [],
   "source": [
    "for i in range(15):\n",
    "    Responses.columns.values[i+5] = \"S1Q\" + str(i)\n",
    "    Responses.columns.values[i+21] = \"S2Q\" + str(i)\n",
    "    Responses[\"Q\" + str(i)] = Responses[Responses.columns.values[i+21]].astype(int)-Responses[Responses.columns.values[i+5]].astype(int)\n"
   ]
  },
  {
   "cell_type": "code",
   "execution_count": 11,
   "metadata": {},
   "outputs": [
    {
     "data": {
      "text/plain": [
       "Age                   2.514286e+01\n",
       "S1Q0                  1.571429e+00\n",
       "S1Q1                  1.000000e+00\n",
       "S1Q2                  2.000000e+00\n",
       "S1Q3                  8.571429e-01\n",
       "S1Q4                  1.428571e+00\n",
       "S1Q5                  1.714286e+00\n",
       "S1Q6                  8.571429e-01\n",
       "S1Q7                  2.000000e+00\n",
       "S1Q8                  1.428571e+00\n",
       "S1Q9                  8.571429e-01\n",
       "S1Q10                 2.000000e+00\n",
       "S1Q11                 2.000000e+00\n",
       "S1Q12                 1.714286e+00\n",
       "S1Q13                 1.857143e+00\n",
       "S1Q14                 5.714286e-01\n",
       "Player ID             5.026946e+06\n",
       "S2Q0                  2.285714e+00\n",
       "S2Q1                  1.571429e+00\n",
       "S2Q2                  2.857143e+00\n",
       "S2Q3                  2.142857e+00\n",
       "S2Q4                  2.285714e+00\n",
       "S2Q5                  3.000000e+00\n",
       "S2Q6                  2.000000e+00\n",
       "S2Q7                  2.571429e+00\n",
       "S2Q8                  2.857143e+00\n",
       "S2Q9                  2.142857e+00\n",
       "S2Q10                 3.142857e+00\n",
       "S2Q11                 2.714286e+00\n",
       "S2Q12                 2.000000e+00\n",
       "S2Q13                 2.571429e+00\n",
       "S2Q14                 2.142857e+00\n",
       "Did you like game?    3.571429e+00\n",
       "Q0                    7.142857e-01\n",
       "Q1                    5.714286e-01\n",
       "Q2                    8.571429e-01\n",
       "Q3                    1.285714e+00\n",
       "Q4                    8.571429e-01\n",
       "Q5                    1.285714e+00\n",
       "Q6                    1.142857e+00\n",
       "Q7                    5.714286e-01\n",
       "Q8                    1.428571e+00\n",
       "Q9                    1.285714e+00\n",
       "Q10                   1.142857e+00\n",
       "Q11                   7.142857e-01\n",
       "Q12                   2.857143e-01\n",
       "Q13                   7.142857e-01\n",
       "Q14                   1.571429e+00\n",
       "dtype: float64"
      ]
     },
     "execution_count": 11,
     "metadata": {},
     "output_type": "execute_result"
    }
   ],
   "source": [
    "Responses.select_dtypes(include='number').mean()"
   ]
  },
  {
   "cell_type": "markdown",
   "metadata": {},
   "source": [
    "## Merge data"
   ]
  },
  {
   "cell_type": "code",
   "execution_count": 12,
   "metadata": {},
   "outputs": [
    {
     "data": {
      "text/plain": [
       "[9274304, 7226659, 8714568, 2189773, 6092123]"
      ]
     },
     "execution_count": 12,
     "metadata": {},
     "output_type": "execute_result"
    }
   ],
   "source": [
    "list(set(gamelog['gamerID'].unique()).intersection(Responses['Player ID'].unique()))"
   ]
  },
  {
   "cell_type": "code",
   "execution_count": 13,
   "metadata": {},
   "outputs": [
    {
     "data": {
      "text/plain": [
       "array([   5555, 2189773, 7226659, 1685637, 6092123, 9274304, 8714568],\n",
       "      dtype=int64)"
      ]
     },
     "execution_count": 13,
     "metadata": {},
     "output_type": "execute_result"
    }
   ],
   "source": [
    "Responses['Player ID'].unique()"
   ]
  },
  {
   "cell_type": "code",
   "execution_count": 14,
   "metadata": {},
   "outputs": [
    {
     "data": {
      "text/plain": [
       "array([2189773, 7226659, 4705656, 6092123, 9282881, 9274304, 8714568],\n",
       "      dtype=int64)"
      ]
     },
     "execution_count": 14,
     "metadata": {},
     "output_type": "execute_result"
    }
   ],
   "source": [
    "gamelog['gamerID'].unique()"
   ]
  },
  {
   "cell_type": "code",
   "execution_count": null,
   "metadata": {},
   "outputs": [],
   "source": []
  }
 ],
 "metadata": {
  "kernelspec": {
   "display_name": "Python 3",
   "language": "python",
   "name": "python3"
  },
  "language_info": {
   "codemirror_mode": {
    "name": "ipython",
    "version": 3
   },
   "file_extension": ".py",
   "mimetype": "text/x-python",
   "name": "python",
   "nbconvert_exporter": "python",
   "pygments_lexer": "ipython3",
   "version": "3.8.3"
  }
 },
 "nbformat": 4,
 "nbformat_minor": 5
}
